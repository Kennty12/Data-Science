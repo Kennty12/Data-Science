{
  "nbformat": 4,
  "nbformat_minor": 0,
  "metadata": {
    "colab": {
      "name": "JONAS BAZARD - SP20 Lab 1A: Data, Code & Google Colab.ipynb",
      "provenance": []
    },
    "kernelspec": {
      "name": "python3",
      "display_name": "Python 3"
    }
  },
  "cells": [
    {
      "cell_type": "markdown",
      "metadata": {
        "id": "sS3nyJQ7q8-P",
        "colab_type": "text"
      },
      "source": [
        "# Lab 1A: Data, Code & Google Colab\n",
        "\n",
        "The first step is to import your library pandas and assign it to an alias \"pd\""
      ]
    },
    {
      "cell_type": "code",
      "metadata": {
        "id": "dqwtZ1pPq94V",
        "colab_type": "code",
        "colab": {}
      },
      "source": [
        "import pandas as  pd"
      ],
      "execution_count": 0,
      "outputs": []
    },
    {
      "cell_type": "markdown",
      "metadata": {
        "id": "n7iQCcGTrLsz",
        "colab_type": "text"
      },
      "source": [
        "The next step is for you to import your data!  Luckly, it's hosted on GitHub.  Use the read_csv() function to import that good ol' data"
      ]
    },
    {
      "cell_type": "code",
      "metadata": {
        "id": "LQRFngYRZ7xw",
        "colab_type": "code",
        "colab": {}
      },
      "source": [
        "cdc = pd.read_csv(\"https://raw.githubusercontent.com/nschettini/datasets/master/cdc.csv\")"
      ],
      "execution_count": 0,
      "outputs": []
    },
    {
      "cell_type": "markdown",
      "metadata": {
        "id": "7Iwcj8MsrSdK",
        "colab_type": "text"
      },
      "source": [
        "Lets take a look at your data (this is the \"first\" question on your Lab Sheet that's in Google Classroom"
      ]
    },
    {
      "cell_type": "code",
      "metadata": {
        "id": "4lJZdShLaAXh",
        "colab_type": "code",
        "outputId": "b4c61d3a-d153-4177-ae9d-ddda45b08ec7",
        "colab": {
          "base_uri": "https://localhost:8080/",
          "height": 898
        }
      },
      "source": [
        "cdc "
      ],
      "execution_count": 0,
      "outputs": [
        {
          "output_type": "execute_result",
          "data": {
            "text/html": [
              "<div>\n",
              "<style scoped>\n",
              "    .dataframe tbody tr th:only-of-type {\n",
              "        vertical-align: middle;\n",
              "    }\n",
              "\n",
              "    .dataframe tbody tr th {\n",
              "        vertical-align: top;\n",
              "    }\n",
              "\n",
              "    .dataframe thead th {\n",
              "        text-align: right;\n",
              "    }\n",
              "</style>\n",
              "<table border=\"1\" class=\"dataframe\">\n",
              "  <thead>\n",
              "    <tr style=\"text-align: right;\">\n",
              "      <th></th>\n",
              "      <th>Unnamed: 0</th>\n",
              "      <th>age</th>\n",
              "      <th>gender</th>\n",
              "      <th>grade</th>\n",
              "      <th>hisp_latino</th>\n",
              "      <th>race</th>\n",
              "      <th>height</th>\n",
              "      <th>weight</th>\n",
              "      <th>helmet</th>\n",
              "      <th>seat_belt</th>\n",
              "      <th>drive_text</th>\n",
              "      <th>fights</th>\n",
              "      <th>bully_school</th>\n",
              "      <th>bully_electronic</th>\n",
              "      <th>depressed</th>\n",
              "      <th>days_smoking</th>\n",
              "      <th>days_vaping</th>\n",
              "      <th>sexuality</th>\n",
              "      <th>describe_weight</th>\n",
              "      <th>drink_juice</th>\n",
              "      <th>eat_fruit</th>\n",
              "      <th>eat_salad</th>\n",
              "      <th>drink_soda</th>\n",
              "      <th>drink_milk</th>\n",
              "      <th>eat_breakfast</th>\n",
              "      <th>days_exercise_60</th>\n",
              "      <th>hours_tv</th>\n",
              "      <th>hours_videogame</th>\n",
              "      <th>number_teams</th>\n",
              "      <th>asthma</th>\n",
              "      <th>hours_sleep</th>\n",
              "      <th>drink_sportsdrink</th>\n",
              "      <th>drink_water</th>\n",
              "      <th>sunburns</th>\n",
              "    </tr>\n",
              "  </thead>\n",
              "  <tbody>\n",
              "    <tr>\n",
              "      <th>0</th>\n",
              "      <td>1</td>\n",
              "      <td>16 years old</td>\n",
              "      <td>Male</td>\n",
              "      <td>11th grade</td>\n",
              "      <td>No</td>\n",
              "      <td>Black or African American</td>\n",
              "      <td>1.73</td>\n",
              "      <td>54.43</td>\n",
              "      <td>Never wore a helmet</td>\n",
              "      <td>Always</td>\n",
              "      <td>I did not drive the past 30 days</td>\n",
              "      <td>2 or 3 times</td>\n",
              "      <td>Yes</td>\n",
              "      <td>Yes</td>\n",
              "      <td>No</td>\n",
              "      <td>NaN</td>\n",
              "      <td>3 to 5 days</td>\n",
              "      <td>Heterosexual (straight)</td>\n",
              "      <td>Slightly underweight</td>\n",
              "      <td>4 to 6 times</td>\n",
              "      <td>1 time per day</td>\n",
              "      <td>Did not eat green salad</td>\n",
              "      <td>4 to 6 times</td>\n",
              "      <td>Did not drink milk</td>\n",
              "      <td>3 days</td>\n",
              "      <td>5 days</td>\n",
              "      <td>3 hours per day</td>\n",
              "      <td>5 or more hours per day</td>\n",
              "      <td>0 teams</td>\n",
              "      <td>No</td>\n",
              "      <td>7 hours</td>\n",
              "      <td>Did not drink sports drink</td>\n",
              "      <td>1 time per day</td>\n",
              "      <td>0 times</td>\n",
              "    </tr>\n",
              "    <tr>\n",
              "      <th>1</th>\n",
              "      <td>2</td>\n",
              "      <td>16 years old</td>\n",
              "      <td>Female</td>\n",
              "      <td>11th grade</td>\n",
              "      <td>Yes</td>\n",
              "      <td>Multiple - Hispanic / Latino</td>\n",
              "      <td>1.50</td>\n",
              "      <td>51.26</td>\n",
              "      <td>Never wore a helmet</td>\n",
              "      <td>Always</td>\n",
              "      <td>I did not drive the past 30 days</td>\n",
              "      <td>0 times</td>\n",
              "      <td>No</td>\n",
              "      <td>No</td>\n",
              "      <td>No</td>\n",
              "      <td>0 days</td>\n",
              "      <td>0 days</td>\n",
              "      <td>Heterosexual (straight)</td>\n",
              "      <td>About the right weight</td>\n",
              "      <td>1 to 3 times</td>\n",
              "      <td>1 time per day</td>\n",
              "      <td>1 to 3 times</td>\n",
              "      <td>4 to 6 times</td>\n",
              "      <td>1 to 3 glasses</td>\n",
              "      <td>7 days</td>\n",
              "      <td>3 days</td>\n",
              "      <td>NaN</td>\n",
              "      <td>No playing video/computer game</td>\n",
              "      <td>0 teams</td>\n",
              "      <td>No</td>\n",
              "      <td>8 hours</td>\n",
              "      <td>Did not drink sports drink</td>\n",
              "      <td>2 times per day</td>\n",
              "      <td>0 times</td>\n",
              "    </tr>\n",
              "    <tr>\n",
              "      <th>2</th>\n",
              "      <td>3</td>\n",
              "      <td>17 years old</td>\n",
              "      <td>Male</td>\n",
              "      <td>12th grade</td>\n",
              "      <td>No</td>\n",
              "      <td>White</td>\n",
              "      <td>1.90</td>\n",
              "      <td>66.68</td>\n",
              "      <td>Did not ride a bicycle</td>\n",
              "      <td>Always</td>\n",
              "      <td>I did not drive the past 30 days</td>\n",
              "      <td>NaN</td>\n",
              "      <td>Yes</td>\n",
              "      <td>Yes</td>\n",
              "      <td>Yes</td>\n",
              "      <td>NaN</td>\n",
              "      <td>NaN</td>\n",
              "      <td>Gay or lesbian</td>\n",
              "      <td>About the right weight</td>\n",
              "      <td>4 to 6 times</td>\n",
              "      <td>1 time per day</td>\n",
              "      <td>Did not eat green salad</td>\n",
              "      <td>1 time per day</td>\n",
              "      <td>1 glass per day</td>\n",
              "      <td>5 days</td>\n",
              "      <td>3 days</td>\n",
              "      <td>No TV on average school day</td>\n",
              "      <td>4 hours per day</td>\n",
              "      <td>0 teams</td>\n",
              "      <td>NaN</td>\n",
              "      <td>8 hours</td>\n",
              "      <td>Did not drink sports drink</td>\n",
              "      <td>4 or more times per day</td>\n",
              "      <td>2 times</td>\n",
              "    </tr>\n",
              "    <tr>\n",
              "      <th>3</th>\n",
              "      <td>4</td>\n",
              "      <td>17 years old</td>\n",
              "      <td>Male</td>\n",
              "      <td>12th grade</td>\n",
              "      <td>No</td>\n",
              "      <td>White</td>\n",
              "      <td>NaN</td>\n",
              "      <td>NaN</td>\n",
              "      <td>Never wore a helmet</td>\n",
              "      <td>Always</td>\n",
              "      <td>3 to 5 days</td>\n",
              "      <td>1 time</td>\n",
              "      <td>No</td>\n",
              "      <td>No</td>\n",
              "      <td>Yes</td>\n",
              "      <td>1 or 2 days</td>\n",
              "      <td>1 or 2 days</td>\n",
              "      <td>Heterosexual (straight)</td>\n",
              "      <td>Slightly underweight</td>\n",
              "      <td>Did not drink fruit juice</td>\n",
              "      <td>1 to 3 times</td>\n",
              "      <td>Did not eat green salad</td>\n",
              "      <td>1 time per day</td>\n",
              "      <td>1 to 3 glasses</td>\n",
              "      <td>2 days</td>\n",
              "      <td>2 days</td>\n",
              "      <td>2 hours per day</td>\n",
              "      <td>3 hours per day</td>\n",
              "      <td>1 team</td>\n",
              "      <td>No</td>\n",
              "      <td>6 hours</td>\n",
              "      <td>1 to 3 times</td>\n",
              "      <td>1 time per day</td>\n",
              "      <td>0 times</td>\n",
              "    </tr>\n",
              "    <tr>\n",
              "      <th>4</th>\n",
              "      <td>5</td>\n",
              "      <td>16 years old</td>\n",
              "      <td>Female</td>\n",
              "      <td>11th grade</td>\n",
              "      <td>No</td>\n",
              "      <td>White</td>\n",
              "      <td>1.63</td>\n",
              "      <td>68.49</td>\n",
              "      <td>Did not ride a bicycle</td>\n",
              "      <td>Most of the time</td>\n",
              "      <td>I did not drive the past 30 days</td>\n",
              "      <td>0 times</td>\n",
              "      <td>Yes</td>\n",
              "      <td>No</td>\n",
              "      <td>Yes</td>\n",
              "      <td>10 to 19 days</td>\n",
              "      <td>All 30 days</td>\n",
              "      <td>Heterosexual (straight)</td>\n",
              "      <td>About the right weight</td>\n",
              "      <td>4 to 6 times</td>\n",
              "      <td>4 to 6 times</td>\n",
              "      <td>Did not eat green salad</td>\n",
              "      <td>1 to 3 times</td>\n",
              "      <td>Did not drink milk</td>\n",
              "      <td>0 days</td>\n",
              "      <td>0 days</td>\n",
              "      <td>Less than 1 hour per day</td>\n",
              "      <td>Less than 1 hour per day</td>\n",
              "      <td>0 teams</td>\n",
              "      <td>No</td>\n",
              "      <td>4 or less hours</td>\n",
              "      <td>1 to 3 times</td>\n",
              "      <td>4 or more times per day</td>\n",
              "      <td>1 times</td>\n",
              "    </tr>\n",
              "    <tr>\n",
              "      <th>...</th>\n",
              "      <td>...</td>\n",
              "      <td>...</td>\n",
              "      <td>...</td>\n",
              "      <td>...</td>\n",
              "      <td>...</td>\n",
              "      <td>...</td>\n",
              "      <td>...</td>\n",
              "      <td>...</td>\n",
              "      <td>...</td>\n",
              "      <td>...</td>\n",
              "      <td>...</td>\n",
              "      <td>...</td>\n",
              "      <td>...</td>\n",
              "      <td>...</td>\n",
              "      <td>...</td>\n",
              "      <td>...</td>\n",
              "      <td>...</td>\n",
              "      <td>...</td>\n",
              "      <td>...</td>\n",
              "      <td>...</td>\n",
              "      <td>...</td>\n",
              "      <td>...</td>\n",
              "      <td>...</td>\n",
              "      <td>...</td>\n",
              "      <td>...</td>\n",
              "      <td>...</td>\n",
              "      <td>...</td>\n",
              "      <td>...</td>\n",
              "      <td>...</td>\n",
              "      <td>...</td>\n",
              "      <td>...</td>\n",
              "      <td>...</td>\n",
              "      <td>...</td>\n",
              "      <td>...</td>\n",
              "    </tr>\n",
              "    <tr>\n",
              "      <th>15619</th>\n",
              "      <td>15620</td>\n",
              "      <td>15 years old</td>\n",
              "      <td>Female</td>\n",
              "      <td>9th grade</td>\n",
              "      <td>No</td>\n",
              "      <td>White</td>\n",
              "      <td>1.60</td>\n",
              "      <td>56.70</td>\n",
              "      <td>NaN</td>\n",
              "      <td>Most of the time</td>\n",
              "      <td>0 days</td>\n",
              "      <td>NaN</td>\n",
              "      <td>No</td>\n",
              "      <td>No</td>\n",
              "      <td>No</td>\n",
              "      <td>0 days</td>\n",
              "      <td>1 or 2 days</td>\n",
              "      <td>NaN</td>\n",
              "      <td>About the right weight</td>\n",
              "      <td>4 to 6 times</td>\n",
              "      <td>1 to 3 times</td>\n",
              "      <td>1 to 3 times</td>\n",
              "      <td>1 to 3 times</td>\n",
              "      <td>Did not drink milk</td>\n",
              "      <td>0 days</td>\n",
              "      <td>7 days</td>\n",
              "      <td>3 hours per day</td>\n",
              "      <td>2 hours per day</td>\n",
              "      <td>2 teams</td>\n",
              "      <td>Yes</td>\n",
              "      <td>7 hours</td>\n",
              "      <td>NaN</td>\n",
              "      <td>NaN</td>\n",
              "      <td>NaN</td>\n",
              "    </tr>\n",
              "    <tr>\n",
              "      <th>15620</th>\n",
              "      <td>15621</td>\n",
              "      <td>15 years old</td>\n",
              "      <td>Female</td>\n",
              "      <td>9th grade</td>\n",
              "      <td>No</td>\n",
              "      <td>White</td>\n",
              "      <td>1.60</td>\n",
              "      <td>61.24</td>\n",
              "      <td>NaN</td>\n",
              "      <td>Most of the time</td>\n",
              "      <td>0 days</td>\n",
              "      <td>NaN</td>\n",
              "      <td>No</td>\n",
              "      <td>No</td>\n",
              "      <td>No</td>\n",
              "      <td>0 days</td>\n",
              "      <td>0 days</td>\n",
              "      <td>NaN</td>\n",
              "      <td>Slightly overweight</td>\n",
              "      <td>1 to 3 times</td>\n",
              "      <td>1 to 3 times</td>\n",
              "      <td>1 to 3 times</td>\n",
              "      <td>1 to 3 times</td>\n",
              "      <td>Did not drink milk</td>\n",
              "      <td>1 day</td>\n",
              "      <td>4 days</td>\n",
              "      <td>Less than 1 hour per day</td>\n",
              "      <td>1 hour per day</td>\n",
              "      <td>3 or more teams</td>\n",
              "      <td>No</td>\n",
              "      <td>8 hours</td>\n",
              "      <td>NaN</td>\n",
              "      <td>NaN</td>\n",
              "      <td>NaN</td>\n",
              "    </tr>\n",
              "    <tr>\n",
              "      <th>15621</th>\n",
              "      <td>15622</td>\n",
              "      <td>17 years old</td>\n",
              "      <td>Male</td>\n",
              "      <td>10th grade</td>\n",
              "      <td>No</td>\n",
              "      <td>White</td>\n",
              "      <td>1.27</td>\n",
              "      <td>56.70</td>\n",
              "      <td>NaN</td>\n",
              "      <td>Most of the time</td>\n",
              "      <td>I did not drive the past 30 days</td>\n",
              "      <td>NaN</td>\n",
              "      <td>No</td>\n",
              "      <td>No</td>\n",
              "      <td>No</td>\n",
              "      <td>0 days</td>\n",
              "      <td>NaN</td>\n",
              "      <td>NaN</td>\n",
              "      <td>About the right weight</td>\n",
              "      <td>1 to 3 times</td>\n",
              "      <td>1 to 3 times</td>\n",
              "      <td>1 to 3 times</td>\n",
              "      <td>1 to 3 times</td>\n",
              "      <td>1 to 3 glasses</td>\n",
              "      <td>7 days</td>\n",
              "      <td>4 days</td>\n",
              "      <td>1 hour per day</td>\n",
              "      <td>3 hours per day</td>\n",
              "      <td>3 or more teams</td>\n",
              "      <td>No</td>\n",
              "      <td>6 hours</td>\n",
              "      <td>NaN</td>\n",
              "      <td>NaN</td>\n",
              "      <td>NaN</td>\n",
              "    </tr>\n",
              "    <tr>\n",
              "      <th>15622</th>\n",
              "      <td>15623</td>\n",
              "      <td>15 years old</td>\n",
              "      <td>Male</td>\n",
              "      <td>9th grade</td>\n",
              "      <td>No</td>\n",
              "      <td>White</td>\n",
              "      <td>1.80</td>\n",
              "      <td>58.51</td>\n",
              "      <td>NaN</td>\n",
              "      <td>Always</td>\n",
              "      <td>I did not drive the past 30 days</td>\n",
              "      <td>NaN</td>\n",
              "      <td>No</td>\n",
              "      <td>No</td>\n",
              "      <td>No</td>\n",
              "      <td>0 days</td>\n",
              "      <td>0 days</td>\n",
              "      <td>NaN</td>\n",
              "      <td>Slightly underweight</td>\n",
              "      <td>1 to 3 times</td>\n",
              "      <td>1 to 3 times</td>\n",
              "      <td>1 to 3 times</td>\n",
              "      <td>1 to 3 times</td>\n",
              "      <td>3 glasses per day</td>\n",
              "      <td>2 days</td>\n",
              "      <td>7 days</td>\n",
              "      <td>1 hour per day</td>\n",
              "      <td>3 hours per day</td>\n",
              "      <td>1 team</td>\n",
              "      <td>No</td>\n",
              "      <td>7 hours</td>\n",
              "      <td>NaN</td>\n",
              "      <td>NaN</td>\n",
              "      <td>NaN</td>\n",
              "    </tr>\n",
              "    <tr>\n",
              "      <th>15623</th>\n",
              "      <td>15624</td>\n",
              "      <td>15 years old</td>\n",
              "      <td>Male</td>\n",
              "      <td>10th grade</td>\n",
              "      <td>No</td>\n",
              "      <td>White</td>\n",
              "      <td>1.78</td>\n",
              "      <td>88.45</td>\n",
              "      <td>NaN</td>\n",
              "      <td>Most of the time</td>\n",
              "      <td>0 days</td>\n",
              "      <td>NaN</td>\n",
              "      <td>No</td>\n",
              "      <td>No</td>\n",
              "      <td>No</td>\n",
              "      <td>0 days</td>\n",
              "      <td>1 or 2 days</td>\n",
              "      <td>NaN</td>\n",
              "      <td>Slightly overweight</td>\n",
              "      <td>1 to 3 times</td>\n",
              "      <td>2 times per day</td>\n",
              "      <td>2 times per day</td>\n",
              "      <td>4 or more times per day</td>\n",
              "      <td>1 to 3 glasses</td>\n",
              "      <td>0 days</td>\n",
              "      <td>7 days</td>\n",
              "      <td>1 hour per day</td>\n",
              "      <td>No playing video/computer game</td>\n",
              "      <td>1 team</td>\n",
              "      <td>No</td>\n",
              "      <td>7 hours</td>\n",
              "      <td>NaN</td>\n",
              "      <td>NaN</td>\n",
              "      <td>NaN</td>\n",
              "    </tr>\n",
              "  </tbody>\n",
              "</table>\n",
              "<p>15624 rows × 34 columns</p>\n",
              "</div>"
            ],
            "text/plain": [
              "       Unnamed: 0           age  ...              drink_water sunburns\n",
              "0               1  16 years old  ...           1 time per day  0 times\n",
              "1               2  16 years old  ...          2 times per day  0 times\n",
              "2               3  17 years old  ...  4 or more times per day  2 times\n",
              "3               4  17 years old  ...           1 time per day  0 times\n",
              "4               5  16 years old  ...  4 or more times per day  1 times\n",
              "...           ...           ...  ...                      ...      ...\n",
              "15619       15620  15 years old  ...                      NaN      NaN\n",
              "15620       15621  15 years old  ...                      NaN      NaN\n",
              "15621       15622  17 years old  ...                      NaN      NaN\n",
              "15622       15623  15 years old  ...                      NaN      NaN\n",
              "15623       15624  15 years old  ...                      NaN      NaN\n",
              "\n",
              "[15624 rows x 34 columns]"
            ]
          },
          "metadata": {
            "tags": []
          },
          "execution_count": 5
        }
      ]
    },
    {
      "cell_type": "markdown",
      "metadata": {
        "id": "8-HJz2B8rZde",
        "colab_type": "text"
      },
      "source": [
        "Now, follow each question on the lab.  You can answer the questions in the word document, or, if you want, modify this document with the answers."
      ]
    },
    {
      "cell_type": "code",
      "metadata": {
        "id": "IpSVyo-Kq8cS",
        "colab_type": "code",
        "outputId": "bbc3386a-b56f-4095-da67-c17a8d1cd4a5",
        "colab": {
          "base_uri": "https://localhost:8080/",
          "height": 34
        }
      },
      "source": [
        "cdc.shape "
      ],
      "execution_count": 0,
      "outputs": [
        {
          "output_type": "execute_result",
          "data": {
            "text/plain": [
              "(15624, 34)"
            ]
          },
          "metadata": {
            "tags": []
          },
          "execution_count": 6
        }
      ]
    },
    {
      "cell_type": "code",
      "metadata": {
        "id": "Bf4cRc8TK2jw",
        "colab_type": "code",
        "outputId": "ecd96747-9e67-4b69-80e2-8dbfd5d5dd08",
        "colab": {
          "base_uri": "https://localhost:8080/",
          "height": 34
        }
      },
      "source": [
        "cdc.size "
      ],
      "execution_count": 0,
      "outputs": [
        {
          "output_type": "execute_result",
          "data": {
            "text/plain": [
              "531216"
            ]
          },
          "metadata": {
            "tags": []
          },
          "execution_count": 7
        }
      ]
    },
    {
      "cell_type": "code",
      "metadata": {
        "id": "q9L08Gj5K2mc",
        "colab_type": "code",
        "outputId": "5ad1fa39-4913-4ee7-f0e8-0e059d09ffd9",
        "colab": {
          "base_uri": "https://localhost:8080/",
          "height": 34
        }
      },
      "source": [
        "len(cdc.index)"
      ],
      "execution_count": 0,
      "outputs": [
        {
          "output_type": "execute_result",
          "data": {
            "text/plain": [
              "15624"
            ]
          },
          "metadata": {
            "tags": []
          },
          "execution_count": 8
        }
      ]
    },
    {
      "cell_type": "code",
      "metadata": {
        "id": "6e3R9mJQPe4w",
        "colab_type": "code",
        "outputId": "1f50265a-2428-4934-d143-c8c923139550",
        "colab": {
          "base_uri": "https://localhost:8080/",
          "height": 595
        }
      },
      "source": [
        "list(cdc.columns)"
      ],
      "execution_count": 0,
      "outputs": [
        {
          "output_type": "execute_result",
          "data": {
            "text/plain": [
              "['Unnamed: 0',\n",
              " 'age',\n",
              " 'gender',\n",
              " 'grade',\n",
              " 'hisp_latino',\n",
              " 'race',\n",
              " 'height',\n",
              " 'weight',\n",
              " 'helmet',\n",
              " 'seat_belt',\n",
              " 'drive_text',\n",
              " 'fights',\n",
              " 'bully_school',\n",
              " 'bully_electronic',\n",
              " 'depressed',\n",
              " 'days_smoking',\n",
              " 'days_vaping',\n",
              " 'sexuality',\n",
              " 'describe_weight',\n",
              " 'drink_juice',\n",
              " 'eat_fruit',\n",
              " 'eat_salad',\n",
              " 'drink_soda',\n",
              " 'drink_milk',\n",
              " 'eat_breakfast',\n",
              " 'days_exercise_60',\n",
              " 'hours_tv',\n",
              " 'hours_videogame',\n",
              " 'number_teams',\n",
              " 'asthma',\n",
              " 'hours_sleep',\n",
              " 'drink_sportsdrink',\n",
              " 'drink_water',\n",
              " 'sunburns']"
            ]
          },
          "metadata": {
            "tags": []
          },
          "execution_count": 13
        }
      ]
    },
    {
      "cell_type": "code",
      "metadata": {
        "id": "iL8p6NT7K2pF",
        "colab_type": "code",
        "outputId": "757654df-9109-40dc-dad0-3984ceb8df17",
        "colab": {
          "base_uri": "https://localhost:8080/",
          "height": 34
        }
      },
      "source": [
        "len(cdc.columns)"
      ],
      "execution_count": 0,
      "outputs": [
        {
          "output_type": "execute_result",
          "data": {
            "text/plain": [
              "34"
            ]
          },
          "metadata": {
            "tags": []
          },
          "execution_count": 10
        }
      ]
    },
    {
      "cell_type": "code",
      "metadata": {
        "id": "YZnFZwg7R1k4",
        "colab_type": "code",
        "outputId": "9c28338f-8102-4d25-d060-47b5be650ddf",
        "colab": {
          "base_uri": "https://localhost:8080/",
          "height": 315
        }
      },
      "source": [
        "cdc.hist(\"height\")"
      ],
      "execution_count": 0,
      "outputs": [
        {
          "output_type": "execute_result",
          "data": {
            "text/plain": [
              "array([[<matplotlib.axes._subplots.AxesSubplot object at 0x7ffb772b3208>]],\n",
              "      dtype=object)"
            ]
          },
          "metadata": {
            "tags": []
          },
          "execution_count": 15
        },
        {
          "output_type": "display_data",
          "data": {
            "image/png": "[encoded data removed]",
            "text/plain": [
              "<Figure size 432x288 with 1 Axes>"
            ]
          },
          "metadata": {
            "tags": []
          }
        }
      ]
    },
    {
      "cell_type": "code",
      "metadata": {
        "id": "n8eRPYIiR1nu",
        "colab_type": "code",
        "outputId": "420dc819-67fa-458b-98ee-e19fbd72924a",
        "colab": {
          "base_uri": "https://localhost:8080/",
          "height": 282
        }
      },
      "source": [
        "cdc.plot(kind=\"hist\", y=\"height\")\n"
      ],
      "execution_count": 0,
      "outputs": [
        {
          "output_type": "execute_result",
          "data": {
            "text/plain": [
              "<matplotlib.axes._subplots.AxesSubplot at 0x7ffb76dace80>"
            ]
          },
          "metadata": {
            "tags": []
          },
          "execution_count": 16
        },
        {
          "output_type": "display_data",
          "data": {
            "image/png": "[encoded data removed]",
            "text/plain": [
              "<Figure size 432x288 with 1 Axes>"
            ]
          },
          "metadata": {
            "tags": []
          }
        }
      ]
    },
    {
      "cell_type": "code",
      "metadata": {
        "id": "C_0fsOz7R1q_",
        "colab_type": "code",
        "outputId": "f368450c-33dd-4e87-ba2f-ce21b1712e9f",
        "colab": {
          "base_uri": "https://localhost:8080/",
          "height": 428
        }
      },
      "source": [
        "cdc['drive_text'].value_counts().plot.bar()\n"
      ],
      "execution_count": 0,
      "outputs": [
        {
          "output_type": "execute_result",
          "data": {
            "text/plain": [
              "<matplotlib.axes._subplots.AxesSubplot at 0x7ffb76d6def0>"
            ]
          },
          "metadata": {
            "tags": []
          },
          "execution_count": 17
        },
        {
          "output_type": "display_data",
          "data": {
            "image/png": "[encoded data removed]",
            "text/plain": [
              "<Figure size 432x288 with 1 Axes>"
            ]
          },
          "metadata": {
            "tags": []
          }
        }
      ]
    },
    {
      "cell_type": "code",
      "metadata": {
        "id": "FCGrrXvPR1tt",
        "colab_type": "code",
        "outputId": "8c6e2e86-887c-4a62-ec31-95543f642608",
        "colab": {
          "base_uri": "https://localhost:8080/",
          "height": 296
        }
      },
      "source": [
        "cdc.plot(kind=\"scatter\", x=\"weight\", y=\"height\")\n"
      ],
      "execution_count": 0,
      "outputs": [
        {
          "output_type": "execute_result",
          "data": {
            "text/plain": [
              "<matplotlib.axes._subplots.AxesSubplot at 0x7ffb76c468d0>"
            ]
          },
          "metadata": {
            "tags": []
          },
          "execution_count": 18
        },
        {
          "output_type": "display_data",
          "data": {
            "image/png": "[encoded data removed]",
            "text/plain": [
              "<Figure size 432x288 with 1 Axes>"
            ]
          },
          "metadata": {
            "tags": []
          }
        }
      ]
    },
    {
      "cell_type": "code",
      "metadata": {
        "id": "xNNzp_aJR1wA",
        "colab_type": "code",
        "outputId": "88841944-11d9-432b-d65a-0f117564e248",
        "colab": {
          "base_uri": "https://localhost:8080/",
          "height": 296
        }
      },
      "source": [
        "cdc.plot(kind=\"scatter\", x=\"height\", y=\"weight\")\n"
      ],
      "execution_count": 0,
      "outputs": [
        {
          "output_type": "execute_result",
          "data": {
            "text/plain": [
              "<matplotlib.axes._subplots.AxesSubplot at 0x7ffb76c2f240>"
            ]
          },
          "metadata": {
            "tags": []
          },
          "execution_count": 19
        },
        {
          "output_type": "display_data",
          "data": {
            "image/png": "[encoded data removed]",
            "text/plain": [
              "<Figure size 432x288 with 1 Axes>"
            ]
          },
          "metadata": {
            "tags": []
          }
        }
      ]
    },
    {
      "cell_type": "code",
      "metadata": {
        "id": "KAxoJVSjR1yo",
        "colab_type": "code",
        "outputId": "9f7f4d6f-65fa-47d2-dc00-d8788dee02ae",
        "colab": {
          "base_uri": "https://localhost:8080/",
          "height": 315
        }
      },
      "source": [
        "cdc.hist(\"weight\")"
      ],
      "execution_count": 0,
      "outputs": [
        {
          "output_type": "execute_result",
          "data": {
            "text/plain": [
              "array([[<matplotlib.axes._subplots.AxesSubplot object at 0x7ffb74384eb8>]],\n",
              "      dtype=object)"
            ]
          },
          "metadata": {
            "tags": []
          },
          "execution_count": 20
        },
        {
          "output_type": "display_data",
          "data": {
            "image/png": "[encoded data removed]",
            "text/plain": [
              "<Figure size 432x288 with 1 Axes>"
            ]
          },
          "metadata": {
            "tags": []
          }
        }
      ]
    },
    {
      "cell_type": "code",
      "metadata": {
        "id": "r7CvgcnCR11W",
        "colab_type": "code",
        "outputId": "4d20066a-6eff-46be-c50e-5511288f0c86",
        "colab": {
          "base_uri": "https://localhost:8080/",
          "height": 429
        }
      },
      "source": [
        "cdc['helmet'].value_counts().plot.bar()"
      ],
      "execution_count": 0,
      "outputs": [
        {
          "output_type": "execute_result",
          "data": {
            "text/plain": [
              "<matplotlib.axes._subplots.AxesSubplot at 0x7ffb74371198>"
            ]
          },
          "metadata": {
            "tags": []
          },
          "execution_count": 21
        },
        {
          "output_type": "display_data",
          "data": {
            "image/png": "[encoded data removed]",
            "text/plain": [
              "<Figure size 432x288 with 1 Axes>"
            ]
          },
          "metadata": {
            "tags": []
          }
        }
      ]
    },
    {
      "cell_type": "code",
      "metadata": {
        "id": "IafGlbVmR134",
        "colab_type": "code",
        "colab": {}
      },
      "source": [
        ""
      ],
      "execution_count": 0,
      "outputs": []
    },
    {
      "cell_type": "code",
      "metadata": {
        "id": "c1YyjEYvR16W",
        "colab_type": "code",
        "colab": {}
      },
      "source": [
        ""
      ],
      "execution_count": 0,
      "outputs": []
    }
  ]
}