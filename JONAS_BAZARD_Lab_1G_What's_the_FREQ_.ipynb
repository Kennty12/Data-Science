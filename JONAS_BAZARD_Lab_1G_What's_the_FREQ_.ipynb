{
  "nbformat": 4,
  "nbformat_minor": 0,
  "metadata": {
    "colab": {
      "name": "JONAS BAZARD - Lab 1G -  What's the FREQ?.ipynb",
      "provenance": [],
      "collapsed_sections": []
    },
    "kernelspec": {
      "name": "python3",
      "display_name": "Python 3"
    }
  },
  "cells": [
    {
      "cell_type": "markdown",
      "metadata": {
        "id": "v6ST-0RDc6xS",
        "colab_type": "text"
      },
      "source": [
        "# George Westinghouse CTE High School: **Computer Science Department**\n",
        "\n",
        "Course: **Intro to Data Science in Python**\n"
      ]
    },
    {
      "cell_type": "markdown",
      "metadata": {
        "id": "QngFZqquc82P",
        "colab_type": "text"
      },
      "source": [
        "# **Lab 1G - What's the FREQ?**\n",
        "\n"
      ]
    },
    {
      "cell_type": "markdown",
      "metadata": {
        "id": "xi7-WBGOiOoL",
        "colab_type": "text"
      },
      "source": [
        "The first step for our analysis is to import our libraries"
      ]
    },
    {
      "cell_type": "code",
      "metadata": {
        "id": "53rkheHcc8NU",
        "colab_type": "code",
        "colab": {}
      },
      "source": [
        "import pandas as pd\n",
        "import matplotlib.pyplot as plt\n",
        "import seaborn as sns "
      ],
      "execution_count": 0,
      "outputs": []
    },
    {
      "cell_type": "markdown",
      "metadata": {
        "id": "f_IgPgi9iTkZ",
        "colab_type": "text"
      },
      "source": [
        "The next step is to import our dataset and assign it to a variable called **atu_clean**"
      ]
    },
    {
      "cell_type": "code",
      "metadata": {
        "id": "FwY39eM9dE0U",
        "colab_type": "code",
        "colab": {}
      },
      "source": [
        "#load the data and assign it to the variable atu_clean\n",
        "atu_clean = pd.read_csv(\"https://raw.githubusercontent.com/nschettini/datasets/master/atu_clean%20(1).csv\")"
      ],
      "execution_count": 0,
      "outputs": []
    },
    {
      "cell_type": "code",
      "metadata": {
        "id": "JKh0uJlhXjf2",
        "colab_type": "code",
        "colab": {
          "base_uri": "https://localhost:8080/",
          "height": 419
        },
        "outputId": "a11f30ba-0ae9-432d-b333-76abd297dcef"
      },
      "source": [
        "atu_clean"
      ],
      "execution_count": 6,
      "outputs": [
        {
          "output_type": "execute_result",
          "data": {
            "text/html": [
              "<div>\n",
              "<style scoped>\n",
              "    .dataframe tbody tr th:only-of-type {\n",
              "        vertical-align: middle;\n",
              "    }\n",
              "\n",
              "    .dataframe tbody tr th {\n",
              "        vertical-align: top;\n",
              "    }\n",
              "\n",
              "    .dataframe thead th {\n",
              "        text-align: right;\n",
              "    }\n",
              "</style>\n",
              "<table border=\"1\" class=\"dataframe\">\n",
              "  <thead>\n",
              "    <tr style=\"text-align: right;\">\n",
              "      <th></th>\n",
              "      <th>Unnamed: 0</th>\n",
              "      <th>caseid</th>\n",
              "      <th>age</th>\n",
              "      <th>gender</th>\n",
              "      <th>fulltime_emp</th>\n",
              "      <th>phys_challenge</th>\n",
              "      <th>sleep</th>\n",
              "      <th>homework</th>\n",
              "      <th>socializing</th>\n",
              "    </tr>\n",
              "  </thead>\n",
              "  <tbody>\n",
              "    <tr>\n",
              "      <th>0</th>\n",
              "      <td>1</td>\n",
              "      <td>20160101160045</td>\n",
              "      <td>62</td>\n",
              "      <td>Female</td>\n",
              "      <td>No answer</td>\n",
              "      <td>No difficulty</td>\n",
              "      <td>690</td>\n",
              "      <td>0</td>\n",
              "      <td>465</td>\n",
              "    </tr>\n",
              "    <tr>\n",
              "      <th>1</th>\n",
              "      <td>2</td>\n",
              "      <td>20160101160066</td>\n",
              "      <td>69</td>\n",
              "      <td>Male</td>\n",
              "      <td>No answer</td>\n",
              "      <td>Has difficulty</td>\n",
              "      <td>600</td>\n",
              "      <td>0</td>\n",
              "      <td>560</td>\n",
              "    </tr>\n",
              "    <tr>\n",
              "      <th>2</th>\n",
              "      <td>3</td>\n",
              "      <td>20160101160069</td>\n",
              "      <td>24</td>\n",
              "      <td>Female</td>\n",
              "      <td>No answer</td>\n",
              "      <td>No difficulty</td>\n",
              "      <td>940</td>\n",
              "      <td>0</td>\n",
              "      <td>20</td>\n",
              "    </tr>\n",
              "    <tr>\n",
              "      <th>3</th>\n",
              "      <td>4</td>\n",
              "      <td>20160101160083</td>\n",
              "      <td>31</td>\n",
              "      <td>Female</td>\n",
              "      <td>Part time</td>\n",
              "      <td>No difficulty</td>\n",
              "      <td>635</td>\n",
              "      <td>0</td>\n",
              "      <td>120</td>\n",
              "    </tr>\n",
              "    <tr>\n",
              "      <th>4</th>\n",
              "      <td>5</td>\n",
              "      <td>20160101160084</td>\n",
              "      <td>59</td>\n",
              "      <td>Female</td>\n",
              "      <td>Part time</td>\n",
              "      <td>No difficulty</td>\n",
              "      <td>500</td>\n",
              "      <td>0</td>\n",
              "      <td>177</td>\n",
              "    </tr>\n",
              "    <tr>\n",
              "      <th>...</th>\n",
              "      <td>...</td>\n",
              "      <td>...</td>\n",
              "      <td>...</td>\n",
              "      <td>...</td>\n",
              "      <td>...</td>\n",
              "      <td>...</td>\n",
              "      <td>...</td>\n",
              "      <td>...</td>\n",
              "      <td>...</td>\n",
              "    </tr>\n",
              "    <tr>\n",
              "      <th>10488</th>\n",
              "      <td>10489</td>\n",
              "      <td>20161212162307</td>\n",
              "      <td>52</td>\n",
              "      <td>Female</td>\n",
              "      <td>No answer</td>\n",
              "      <td>No difficulty</td>\n",
              "      <td>520</td>\n",
              "      <td>0</td>\n",
              "      <td>585</td>\n",
              "    </tr>\n",
              "    <tr>\n",
              "      <th>10489</th>\n",
              "      <td>10490</td>\n",
              "      <td>20161212162357</td>\n",
              "      <td>69</td>\n",
              "      <td>Male</td>\n",
              "      <td>No answer</td>\n",
              "      <td>No difficulty</td>\n",
              "      <td>645</td>\n",
              "      <td>0</td>\n",
              "      <td>625</td>\n",
              "    </tr>\n",
              "    <tr>\n",
              "      <th>10490</th>\n",
              "      <td>10491</td>\n",
              "      <td>20161212162426</td>\n",
              "      <td>28</td>\n",
              "      <td>Male</td>\n",
              "      <td>Full time</td>\n",
              "      <td>No difficulty</td>\n",
              "      <td>402</td>\n",
              "      <td>0</td>\n",
              "      <td>20</td>\n",
              "    </tr>\n",
              "    <tr>\n",
              "      <th>10491</th>\n",
              "      <td>10492</td>\n",
              "      <td>20161212162456</td>\n",
              "      <td>80</td>\n",
              "      <td>Female</td>\n",
              "      <td>No answer</td>\n",
              "      <td>Has difficulty</td>\n",
              "      <td>420</td>\n",
              "      <td>0</td>\n",
              "      <td>979</td>\n",
              "    </tr>\n",
              "    <tr>\n",
              "      <th>10492</th>\n",
              "      <td>10493</td>\n",
              "      <td>20161212162509</td>\n",
              "      <td>16</td>\n",
              "      <td>Female</td>\n",
              "      <td>No answer</td>\n",
              "      <td>No difficulty</td>\n",
              "      <td>910</td>\n",
              "      <td>0</td>\n",
              "      <td>430</td>\n",
              "    </tr>\n",
              "  </tbody>\n",
              "</table>\n",
              "<p>10493 rows × 9 columns</p>\n",
              "</div>"
            ],
            "text/plain": [
              "       Unnamed: 0          caseid  age  ... sleep homework socializing\n",
              "0               1  20160101160045   62  ...   690        0         465\n",
              "1               2  20160101160066   69  ...   600        0         560\n",
              "2               3  20160101160069   24  ...   940        0          20\n",
              "3               4  20160101160083   31  ...   635        0         120\n",
              "4               5  20160101160084   59  ...   500        0         177\n",
              "...           ...             ...  ...  ...   ...      ...         ...\n",
              "10488       10489  20161212162307   52  ...   520        0         585\n",
              "10489       10490  20161212162357   69  ...   645        0         625\n",
              "10490       10491  20161212162426   28  ...   402        0          20\n",
              "10491       10492  20161212162456   80  ...   420        0         979\n",
              "10492       10493  20161212162509   16  ...   910        0         430\n",
              "\n",
              "[10493 rows x 9 columns]"
            ]
          },
          "metadata": {
            "tags": []
          },
          "execution_count": 6
        }
      ]
    },
    {
      "cell_type": "markdown",
      "metadata": {
        "id": "y8yGK8m4sAjZ",
        "colab_type": "text"
      },
      "source": [
        "# **Clean it up!**\n",
        "\n",
        "* In Lab 1F, we saw how we could clean data to make it easier to use and analyze.\n",
        " * Using the data you cleaned, we can start analyzing a small set of variables from the American Time Use (ATU) survey.\n",
        " * The process of cleaning and then analyzing data is very common in Data Science.\n",
        "* In this lab, we'll learn how we can create frequency tables to detect relationships between categorical variables.\n",
        " * Use the data() function to load the atu_clean data file to use in this lab."
      ]
    },
    {
      "cell_type": "markdown",
      "metadata": {
        "id": "kjdyj-8ksKqI",
        "colab_type": "text"
      },
      "source": [
        "# **How do we summarize categorical variables?**\n",
        "\n",
        "* When we're dealing with categorical variables, we can't just calculate an average todescribe a typical value.\n",
        " * (Honestly, what's the average of categories orange, apple and banana, for\n",
        "instance?)\n",
        "\n",
        "* When trying to describe categorical variables with numbers, we calculate frequency tables"
      ]
    },
    {
      "cell_type": "markdown",
      "metadata": {
        "id": "nPebGY5IsS1w",
        "colab_type": "text"
      },
      "source": [
        "# **Frequency tables?**\n",
        "\n",
        "* When it comes to categories, about all you can do is count or tally how often each categorycomes up in the data.\n",
        "* Fill in the blanks below to answer the following: \n",
        "\n",
        "**How many more females than males arethere in our ATU data??**\n",
        "\n",
        "There are ...\n",
        "\n",
        "There are 1,153 more females than males.\n",
        "\n",
        "\n",
        "---\n",
        "\n",
        "`atu_clean.groupby(['___']).size()`\n",
        "\n",
        "---\n",
        "\n"
      ]
    },
    {
      "cell_type": "code",
      "metadata": {
        "id": "iST19oHdsQi7",
        "colab_type": "code",
        "colab": {
          "base_uri": "https://localhost:8080/",
          "height": 85
        },
        "outputId": "46f566e9-3925-4e0a-d72f-befec939603c"
      },
      "source": [
        "\n",
        "atu_clean.groupby(['gender']).size()"
      ],
      "execution_count": 8,
      "outputs": [
        {
          "output_type": "execute_result",
          "data": {
            "text/plain": [
              "gender\n",
              "Female    5823\n",
              "Male      4670\n",
              "dtype: int64"
            ]
          },
          "metadata": {
            "tags": []
          },
          "execution_count": 8
        }
      ]
    },
    {
      "cell_type": "markdown",
      "metadata": {
        "id": "Nv4vrDjsus0n",
        "colab_type": "text"
      },
      "source": [
        "Good job ... You got it to work!  Simple, huh?  However, it doesn't \"look\" that nice.  Try this code and see how it looks:\n",
        "\n",
        "\n",
        "---\n",
        "\n",
        "`atu_clean.groupby(['____']).size().to_frame()`\n",
        "\n",
        "---\n",
        "\n"
      ]
    },
    {
      "cell_type": "code",
      "metadata": {
        "id": "Ye5kAreIsl78",
        "colab_type": "code",
        "colab": {
          "base_uri": "https://localhost:8080/",
          "height": 142
        },
        "outputId": "c7704fa2-acbd-418f-f066-c6e1ccae9d58"
      },
      "source": [
        "atu_clean.groupby(['gender']).size().to_frame()"
      ],
      "execution_count": 10,
      "outputs": [
        {
          "output_type": "execute_result",
          "data": {
            "text/html": [
              "<div>\n",
              "<style scoped>\n",
              "    .dataframe tbody tr th:only-of-type {\n",
              "        vertical-align: middle;\n",
              "    }\n",
              "\n",
              "    .dataframe tbody tr th {\n",
              "        vertical-align: top;\n",
              "    }\n",
              "\n",
              "    .dataframe thead th {\n",
              "        text-align: right;\n",
              "    }\n",
              "</style>\n",
              "<table border=\"1\" class=\"dataframe\">\n",
              "  <thead>\n",
              "    <tr style=\"text-align: right;\">\n",
              "      <th></th>\n",
              "      <th>0</th>\n",
              "    </tr>\n",
              "    <tr>\n",
              "      <th>gender</th>\n",
              "      <th></th>\n",
              "    </tr>\n",
              "  </thead>\n",
              "  <tbody>\n",
              "    <tr>\n",
              "      <th>Female</th>\n",
              "      <td>5823</td>\n",
              "    </tr>\n",
              "    <tr>\n",
              "      <th>Male</th>\n",
              "      <td>4670</td>\n",
              "    </tr>\n",
              "  </tbody>\n",
              "</table>\n",
              "</div>"
            ],
            "text/plain": [
              "           0\n",
              "gender      \n",
              "Female  5823\n",
              "Male    4670"
            ]
          },
          "metadata": {
            "tags": []
          },
          "execution_count": 10
        }
      ]
    },
    {
      "cell_type": "markdown",
      "metadata": {
        "id": "FXFPIuaVwa4U",
        "colab_type": "text"
      },
      "source": [
        "Good work.  .groupby() is actually one of the MOST important functions you'll ever use as a data scientist.\n",
        "\n",
        "# **2-way Frequency Tables**\n",
        "\n",
        "* Counting the categories of a single variable is nice, but often times we want to make comparisons.\n",
        "* Use a line of code to tally the number of people with physical challenges and their genders.\n",
        "\n",
        "`atu_clean.groupby(['____', '_____']).size().to_frame()`\n",
        "\n",
        " * **Does one gender seem to have a higher occurrence of physical challenges\n",
        "than the other? If so, which one and explain your reasoning?** Ans here ...\n",
        "\n",
        "Gender did play a significant role when it came to determine who would have physical difficulties because women struggle more then men based on the data. "
      ]
    },
    {
      "cell_type": "code",
      "metadata": {
        "id": "Lr3Bre_XwyT2",
        "colab_type": "code",
        "colab": {
          "base_uri": "https://localhost:8080/",
          "height": 204
        },
        "outputId": "0530c022-d462-42db-a378-d1315f8966a0"
      },
      "source": [
        "atu_clean.groupby(['gender', 'phys_challenge']).size().to_frame()"
      ],
      "execution_count": 11,
      "outputs": [
        {
          "output_type": "execute_result",
          "data": {
            "text/html": [
              "<div>\n",
              "<style scoped>\n",
              "    .dataframe tbody tr th:only-of-type {\n",
              "        vertical-align: middle;\n",
              "    }\n",
              "\n",
              "    .dataframe tbody tr th {\n",
              "        vertical-align: top;\n",
              "    }\n",
              "\n",
              "    .dataframe thead th {\n",
              "        text-align: right;\n",
              "    }\n",
              "</style>\n",
              "<table border=\"1\" class=\"dataframe\">\n",
              "  <thead>\n",
              "    <tr style=\"text-align: right;\">\n",
              "      <th></th>\n",
              "      <th></th>\n",
              "      <th>0</th>\n",
              "    </tr>\n",
              "    <tr>\n",
              "      <th>gender</th>\n",
              "      <th>phys_challenge</th>\n",
              "      <th></th>\n",
              "    </tr>\n",
              "  </thead>\n",
              "  <tbody>\n",
              "    <tr>\n",
              "      <th rowspan=\"2\" valign=\"top\">Female</th>\n",
              "      <th>Has difficulty</th>\n",
              "      <td>775</td>\n",
              "    </tr>\n",
              "    <tr>\n",
              "      <th>No difficulty</th>\n",
              "      <td>5048</td>\n",
              "    </tr>\n",
              "    <tr>\n",
              "      <th rowspan=\"2\" valign=\"top\">Male</th>\n",
              "      <th>Has difficulty</th>\n",
              "      <td>530</td>\n",
              "    </tr>\n",
              "    <tr>\n",
              "      <th>No difficulty</th>\n",
              "      <td>4140</td>\n",
              "    </tr>\n",
              "  </tbody>\n",
              "</table>\n",
              "</div>"
            ],
            "text/plain": [
              "                          0\n",
              "gender phys_challenge      \n",
              "Female Has difficulty   775\n",
              "       No difficulty   5048\n",
              "Male   Has difficulty   530\n",
              "       No difficulty   4140"
            ]
          },
          "metadata": {
            "tags": []
          },
          "execution_count": 11
        }
      ]
    },
    {
      "cell_type": "markdown",
      "metadata": {
        "id": "GmmqJ7fJxKa2",
        "colab_type": "text"
      },
      "source": [
        "# **Interpreting 2-way frequency tables**\n",
        "\n",
        "* Recall that there were 1153 more women than men in our data set.\n",
        " * If there are more women, then we might expect women to have more physical\n",
        "challenges (compared to men).\n",
        "* Instead of using counts we use percentages.\n",
        "\n",
        "* **Recode your code from before - making a 2-way Frequency table.  This time, assign it to a variable of your choosing - such as atu_freq.**\n",
        "\n",
        "For example:\n",
        "\n",
        "```\n",
        "atu_freq = atu_clean.groupby....\n",
        "```\n",
        "\n",
        "Then, in another cell, run the following code\n",
        "\n",
        "`print(atu_freq/len(atu_clean))`\n",
        "\n",
        "\n",
        " * **Does one gender seem to have a higher occurence of physical challenges\n",
        "than the other? If so, which one and explain your reasoning?**\n",
        " * **Did your answer change from before? Why?** \n",
        "\n",
        "\n",
        " The answer changed because previously the code would just tell you the exact count/number of people. However with this code it gives the decimal/percentage of people based on the data."
      ]
    },
    {
      "cell_type": "code",
      "metadata": {
        "id": "-kUlSKv9z9GJ",
        "colab_type": "code",
        "colab": {}
      },
      "source": [
        "atu_freq = atu_clean.groupby(['gender', 'phys_challenge']).size().to_frame()"
      ],
      "execution_count": 0,
      "outputs": []
    },
    {
      "cell_type": "code",
      "metadata": {
        "id": "Wu7gtjY80BG-",
        "colab_type": "code",
        "colab": {
          "base_uri": "https://localhost:8080/",
          "height": 119
        },
        "outputId": "ac446dcf-cd28-4c1d-8839-f6384feedfbc"
      },
      "source": [
        "print(atu_freq/len(atu_clean))"
      ],
      "execution_count": 22,
      "outputs": [
        {
          "output_type": "stream",
          "text": [
            "                              0\n",
            "gender phys_challenge          \n",
            "Female Has difficulty  0.073859\n",
            "       No difficulty   0.481083\n",
            "Male   Has difficulty  0.050510\n",
            "       No difficulty   0.394549\n"
          ],
          "name": "stdout"
        }
      ]
    },
    {
      "cell_type": "code",
      "metadata": {
        "id": "BIQ-8NT7aagl",
        "colab_type": "code",
        "colab": {}
      },
      "source": [
        "atu_freq_table = (atu_freq/len(atu_clean))"
      ],
      "execution_count": 0,
      "outputs": []
    },
    {
      "cell_type": "code",
      "metadata": {
        "id": "NTNBMqe2agHx",
        "colab_type": "code",
        "colab": {
          "base_uri": "https://localhost:8080/",
          "height": 204
        },
        "outputId": "2fcff6fa-8785-4363-a5b0-9034aead2335"
      },
      "source": [
        "atu_freq_table"
      ],
      "execution_count": 21,
      "outputs": [
        {
          "output_type": "execute_result",
          "data": {
            "text/html": [
              "<div>\n",
              "<style scoped>\n",
              "    .dataframe tbody tr th:only-of-type {\n",
              "        vertical-align: middle;\n",
              "    }\n",
              "\n",
              "    .dataframe tbody tr th {\n",
              "        vertical-align: top;\n",
              "    }\n",
              "\n",
              "    .dataframe thead th {\n",
              "        text-align: right;\n",
              "    }\n",
              "</style>\n",
              "<table border=\"1\" class=\"dataframe\">\n",
              "  <thead>\n",
              "    <tr style=\"text-align: right;\">\n",
              "      <th></th>\n",
              "      <th></th>\n",
              "      <th>0</th>\n",
              "    </tr>\n",
              "    <tr>\n",
              "      <th>gender</th>\n",
              "      <th>phys_challenge</th>\n",
              "      <th></th>\n",
              "    </tr>\n",
              "  </thead>\n",
              "  <tbody>\n",
              "    <tr>\n",
              "      <th rowspan=\"2\" valign=\"top\">Female</th>\n",
              "      <th>Has difficulty</th>\n",
              "      <td>0.073859</td>\n",
              "    </tr>\n",
              "    <tr>\n",
              "      <th>No difficulty</th>\n",
              "      <td>0.481083</td>\n",
              "    </tr>\n",
              "    <tr>\n",
              "      <th rowspan=\"2\" valign=\"top\">Male</th>\n",
              "      <th>Has difficulty</th>\n",
              "      <td>0.050510</td>\n",
              "    </tr>\n",
              "    <tr>\n",
              "      <th>No difficulty</th>\n",
              "      <td>0.394549</td>\n",
              "    </tr>\n",
              "  </tbody>\n",
              "</table>\n",
              "</div>"
            ],
            "text/plain": [
              "                              0\n",
              "gender phys_challenge          \n",
              "Female Has difficulty  0.073859\n",
              "       No difficulty   0.481083\n",
              "Male   Has difficulty  0.050510\n",
              "       No difficulty   0.394549"
            ]
          },
          "metadata": {
            "tags": []
          },
          "execution_count": 21
        }
      ]
    },
    {
      "cell_type": "code",
      "metadata": {
        "id": "jAm7Wgwaag2R",
        "colab_type": "code",
        "colab": {}
      },
      "source": [
        ""
      ],
      "execution_count": 0,
      "outputs": []
    }
  ]
}